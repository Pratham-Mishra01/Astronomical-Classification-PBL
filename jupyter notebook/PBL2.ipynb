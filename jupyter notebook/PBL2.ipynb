{
 "cells": [
  {
   "cell_type": "code",
   "execution_count": 1,
   "id": "2654f06c-66ca-47dc-b045-acfd0b1e77ec",
   "metadata": {},
   "outputs": [
    {
     "data": {
      "text/html": [
       "<div>\n",
       "<style scoped>\n",
       "    .dataframe tbody tr th:only-of-type {\n",
       "        vertical-align: middle;\n",
       "    }\n",
       "\n",
       "    .dataframe tbody tr th {\n",
       "        vertical-align: top;\n",
       "    }\n",
       "\n",
       "    .dataframe thead th {\n",
       "        text-align: right;\n",
       "    }\n",
       "</style>\n",
       "<table border=\"1\" class=\"dataframe\">\n",
       "  <thead>\n",
       "    <tr style=\"text-align: right;\">\n",
       "      <th></th>\n",
       "      <th>Column2</th>\n",
       "      <th>alpha</th>\n",
       "      <th>delta</th>\n",
       "      <th>ultra</th>\n",
       "      <th>green</th>\n",
       "      <th>red</th>\n",
       "      <th>n_infra</th>\n",
       "      <th>infra</th>\n",
       "      <th>redshift</th>\n",
       "    </tr>\n",
       "  </thead>\n",
       "  <tbody>\n",
       "    <tr>\n",
       "      <th>0</th>\n",
       "      <td>1.240000e+18</td>\n",
       "      <td>135.689107</td>\n",
       "      <td>32.494632</td>\n",
       "      <td>0.646944</td>\n",
       "      <td>0.507117</td>\n",
       "      <td>0.485176</td>\n",
       "      <td>0.416993</td>\n",
       "      <td>0.427144</td>\n",
       "      <td>0.804958</td>\n",
       "    </tr>\n",
       "    <tr>\n",
       "      <th>1</th>\n",
       "      <td>1.240000e+18</td>\n",
       "      <td>144.826101</td>\n",
       "      <td>31.274185</td>\n",
       "      <td>0.705201</td>\n",
       "      <td>0.536529</td>\n",
       "      <td>0.608004</td>\n",
       "      <td>0.523142</td>\n",
       "      <td>0.579719</td>\n",
       "      <td>1.349944</td>\n",
       "    </tr>\n",
       "    <tr>\n",
       "      <th>2</th>\n",
       "      <td>1.240000e+18</td>\n",
       "      <td>142.188790</td>\n",
       "      <td>35.582444</td>\n",
       "      <td>0.736669</td>\n",
       "      <td>0.527652</td>\n",
       "      <td>0.497224</td>\n",
       "      <td>0.426686</td>\n",
       "      <td>0.435504</td>\n",
       "      <td>0.840452</td>\n",
       "    </tr>\n",
       "    <tr>\n",
       "      <th>3</th>\n",
       "      <td>1.240000e+18</td>\n",
       "      <td>338.741038</td>\n",
       "      <td>-0.402828</td>\n",
       "      <td>0.534030</td>\n",
       "      <td>0.586451</td>\n",
       "      <td>0.553428</td>\n",
       "      <td>0.487965</td>\n",
       "      <td>0.451832</td>\n",
       "      <td>1.928409</td>\n",
       "    </tr>\n",
       "    <tr>\n",
       "      <th>4</th>\n",
       "      <td>1.240000e+18</td>\n",
       "      <td>345.282593</td>\n",
       "      <td>21.183866</td>\n",
       "      <td>0.359043</td>\n",
       "      <td>0.259008</td>\n",
       "      <td>0.266523</td>\n",
       "      <td>0.247961</td>\n",
       "      <td>0.251387</td>\n",
       "      <td>-1.153359</td>\n",
       "    </tr>\n",
       "  </tbody>\n",
       "</table>\n",
       "</div>"
      ],
      "text/plain": [
       "        Column2       alpha      delta     ultra     green       red  \\\n",
       "0  1.240000e+18  135.689107  32.494632  0.646944  0.507117  0.485176   \n",
       "1  1.240000e+18  144.826101  31.274185  0.705201  0.536529  0.608004   \n",
       "2  1.240000e+18  142.188790  35.582444  0.736669  0.527652  0.497224   \n",
       "3  1.240000e+18  338.741038  -0.402828  0.534030  0.586451  0.553428   \n",
       "4  1.240000e+18  345.282593  21.183866  0.359043  0.259008  0.266523   \n",
       "\n",
       "    n_infra     infra  redshift  \n",
       "0  0.416993  0.427144  0.804958  \n",
       "1  0.523142  0.579719  1.349944  \n",
       "2  0.426686  0.435504  0.840452  \n",
       "3  0.487965  0.451832  1.928409  \n",
       "4  0.247961  0.251387 -1.153359  "
      ]
     },
     "execution_count": 1,
     "metadata": {},
     "output_type": "execute_result"
    }
   ],
   "source": [
    "import pandas as pd\n",
    "\n",
    "# Load the dataset\n",
    "file_path = r\"C:\\Users\\prath\\OneDrive\\Desktop\\Pandas\\Galaxy_Classification_Cleaned.csv\"\n",
    "df = pd.read_csv(file_path)\n",
    "\n",
    "# Display first few rows to check column names\n",
    "df.head()\n"
   ]
  },
  {
   "cell_type": "code",
   "execution_count": 3,
   "id": "d50410da-a320-4277-a253-6d6fcfb0ffe8",
   "metadata": {},
   "outputs": [
    {
     "name": "stdout",
     "output_type": "stream",
     "text": [
      "        alpha      delta     ultra     green       red   n_infra     infra  \\\n",
      "0  135.689107  32.494632  0.646944  0.507117  0.485176  0.416993  0.427144   \n",
      "1  144.826101  31.274185  0.705201  0.536529  0.608004  0.523142  0.579719   \n",
      "2  142.188790  35.582444  0.736669  0.527652  0.497224  0.426686  0.435504   \n",
      "3  338.741038  -0.402828  0.534030  0.586451  0.553428  0.487965  0.451832   \n",
      "4  345.282593  21.183866  0.359043  0.259008  0.266523  0.247961  0.251387   \n",
      "\n",
      "   redshift  \n",
      "0  0.804958  \n",
      "1  1.349944  \n",
      "2  0.840452  \n",
      "3  1.928409  \n",
      "4 -1.153359  \n"
     ]
    }
   ],
   "source": [
    "# Drop the column\n",
    "df = df.drop(columns=['Column2'], errors='ignore')\n",
    "\n",
    "# Verify if the column is removed\n",
    "print(df.head())"
   ]
  },
  {
   "cell_type": "code",
   "execution_count": 5,
   "id": "1308d283-a673-4f38-adfd-8d94489be726",
   "metadata": {},
   "outputs": [],
   "source": [
    "# Save the cleaned dataset\n",
    "df.to_csv(r\"C:\\Users\\prath\\OneDrive\\Desktop\\Pandas\\Galaxy_Classification_Cleaned_Updated.csv\", index=False)"
   ]
  },
  {
   "cell_type": "code",
   "execution_count": null,
   "id": "5f6dffc2-f4a4-48f8-bf4c-918305d2ed6d",
   "metadata": {},
   "outputs": [],
   "source": []
  }
 ],
 "metadata": {
  "kernelspec": {
   "display_name": "Python 3 (ipykernel)",
   "language": "python",
   "name": "python3"
  },
  "language_info": {
   "codemirror_mode": {
    "name": "ipython",
    "version": 3
   },
   "file_extension": ".py",
   "mimetype": "text/x-python",
   "name": "python",
   "nbconvert_exporter": "python",
   "pygments_lexer": "ipython3",
   "version": "3.12.6"
  }
 },
 "nbformat": 4,
 "nbformat_minor": 5
}
